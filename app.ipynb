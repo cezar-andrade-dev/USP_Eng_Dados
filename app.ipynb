{
 "cells": [
  {
   "cell_type": "code",
   "execution_count": 1,
   "id": "6bf4f246",
   "metadata": {},
   "outputs": [],
   "source": [
    "import pandas as pd\n",
    "from deep_translator import GoogleTranslator"
   ]
  },
  {
   "cell_type": "code",
   "execution_count": 2,
   "id": "225801ef",
   "metadata": {},
   "outputs": [],
   "source": [
    "df = pd.read_csv(\"livros.csv\")\n"
   ]
  },
  {
   "cell_type": "code",
   "execution_count": 3,
   "id": "b5e05fb2",
   "metadata": {},
   "outputs": [
    {
     "data": {
      "text/plain": [
       "(174, 6)"
      ]
     },
     "execution_count": 3,
     "metadata": {},
     "output_type": "execute_result"
    }
   ],
   "source": [
    "df.shape #linhas e colunas"
   ]
  },
  {
   "cell_type": "code",
   "execution_count": 4,
   "id": "71789d41",
   "metadata": {},
   "outputs": [
    {
     "data": {
      "text/html": [
       "<div>\n",
       "<style scoped>\n",
       "    .dataframe tbody tr th:only-of-type {\n",
       "        vertical-align: middle;\n",
       "    }\n",
       "\n",
       "    .dataframe tbody tr th {\n",
       "        vertical-align: top;\n",
       "    }\n",
       "\n",
       "    .dataframe thead th {\n",
       "        text-align: right;\n",
       "    }\n",
       "</style>\n",
       "<table border=\"1\" class=\"dataframe\">\n",
       "  <thead>\n",
       "    <tr style=\"text-align: right;\">\n",
       "      <th></th>\n",
       "      <th>Book</th>\n",
       "      <th>Author(s)</th>\n",
       "      <th>Original language</th>\n",
       "      <th>First published</th>\n",
       "      <th>Approximate sales in millions</th>\n",
       "      <th>Genre</th>\n",
       "    </tr>\n",
       "  </thead>\n",
       "  <tbody>\n",
       "    <tr>\n",
       "      <th>0</th>\n",
       "      <td>A Tale of Two Cities</td>\n",
       "      <td>Charles Dickens</td>\n",
       "      <td>English</td>\n",
       "      <td>1859</td>\n",
       "      <td>200.0</td>\n",
       "      <td>Historical fiction</td>\n",
       "    </tr>\n",
       "    <tr>\n",
       "      <th>1</th>\n",
       "      <td>The Little Prince (Le Petit Prince)</td>\n",
       "      <td>Antoine de Saint-Exupéry</td>\n",
       "      <td>French</td>\n",
       "      <td>1943</td>\n",
       "      <td>200.0</td>\n",
       "      <td>Novella</td>\n",
       "    </tr>\n",
       "    <tr>\n",
       "      <th>2</th>\n",
       "      <td>Harry Potter and the Philosopher's Stone</td>\n",
       "      <td>J. K. Rowling</td>\n",
       "      <td>English</td>\n",
       "      <td>1997</td>\n",
       "      <td>120.0</td>\n",
       "      <td>Fantasy</td>\n",
       "    </tr>\n",
       "    <tr>\n",
       "      <th>3</th>\n",
       "      <td>And Then There Were None</td>\n",
       "      <td>Agatha Christie</td>\n",
       "      <td>English</td>\n",
       "      <td>1939</td>\n",
       "      <td>100.0</td>\n",
       "      <td>Mystery</td>\n",
       "    </tr>\n",
       "    <tr>\n",
       "      <th>4</th>\n",
       "      <td>Dream of the Red Chamber (紅樓夢)</td>\n",
       "      <td>Cao Xueqin</td>\n",
       "      <td>Chinese</td>\n",
       "      <td>1791</td>\n",
       "      <td>100.0</td>\n",
       "      <td>Family saga</td>\n",
       "    </tr>\n",
       "  </tbody>\n",
       "</table>\n",
       "</div>"
      ],
      "text/plain": [
       "                                       Book                 Author(s)  \\\n",
       "0                      A Tale of Two Cities           Charles Dickens   \n",
       "1       The Little Prince (Le Petit Prince)  Antoine de Saint-Exupéry   \n",
       "2  Harry Potter and the Philosopher's Stone             J. K. Rowling   \n",
       "3                  And Then There Were None           Agatha Christie   \n",
       "4            Dream of the Red Chamber (紅樓夢)                Cao Xueqin   \n",
       "\n",
       "  Original language  First published  Approximate sales in millions  \\\n",
       "0           English             1859                          200.0   \n",
       "1            French             1943                          200.0   \n",
       "2           English             1997                          120.0   \n",
       "3           English             1939                          100.0   \n",
       "4           Chinese             1791                          100.0   \n",
       "\n",
       "                Genre  \n",
       "0  Historical fiction  \n",
       "1             Novella  \n",
       "2             Fantasy  \n",
       "3             Mystery  \n",
       "4         Family saga  "
      ]
     },
     "execution_count": 4,
     "metadata": {},
     "output_type": "execute_result"
    }
   ],
   "source": [
    "df.head()"
   ]
  },
  {
   "cell_type": "code",
   "execution_count": 5,
   "id": "c5190b13",
   "metadata": {},
   "outputs": [
    {
     "name": "stdout",
     "output_type": "stream",
     "text": [
      "<class 'pandas.core.frame.DataFrame'>\n",
      "RangeIndex: 174 entries, 0 to 173\n",
      "Data columns (total 6 columns):\n",
      " #   Column                         Non-Null Count  Dtype  \n",
      "---  ------                         --------------  -----  \n",
      " 0   Book                           174 non-null    object \n",
      " 1   Author(s)                      174 non-null    object \n",
      " 2   Original language              174 non-null    object \n",
      " 3   First published                174 non-null    int64  \n",
      " 4   Approximate sales in millions  174 non-null    float64\n",
      " 5   Genre                          118 non-null    object \n",
      "dtypes: float64(1), int64(1), object(4)\n",
      "memory usage: 8.3+ KB\n"
     ]
    }
   ],
   "source": [
    "df.info() #tipos de cada coluna"
   ]
  },
  {
   "cell_type": "code",
   "execution_count": 6,
   "id": "cfd5e606",
   "metadata": {},
   "outputs": [],
   "source": [
    "traducao_colunas = {\n",
    "    'Book':'livro', \n",
    "    'Author(s)':'Autor', \n",
    "    'Original language':'Idioma', \n",
    "    'First published': 'Ano',\n",
    "    'Approximate sales in millions':'Vendas', \n",
    "    'Genre':'Gênero'\n",
    "}"
   ]
  },
  {
   "cell_type": "code",
   "execution_count": 7,
   "id": "f976140c",
   "metadata": {},
   "outputs": [
    {
     "data": {
      "text/plain": [
       "Index(['livro', 'Autor', 'Idioma', 'Ano', 'Vendas', 'Gênero'], dtype='object')"
      ]
     },
     "execution_count": 7,
     "metadata": {},
     "output_type": "execute_result"
    }
   ],
   "source": [
    "df.rename(columns=traducao_colunas, inplace=True)\n",
    "df.columns"
   ]
  },
  {
   "cell_type": "code",
   "execution_count": 8,
   "id": "0891f148",
   "metadata": {},
   "outputs": [
    {
     "data": {
      "text/plain": [
       "livro      0\n",
       "Autor      0\n",
       "Idioma     0\n",
       "Ano        0\n",
       "Vendas     0\n",
       "Gênero    56\n",
       "dtype: int64"
      ]
     },
     "execution_count": 8,
     "metadata": {},
     "output_type": "execute_result"
    }
   ],
   "source": [
    "df.isnull().sum()\n",
    "#problema com a coluna gênero"
   ]
  },
  {
   "cell_type": "code",
   "execution_count": 9,
   "id": "f5082a1e",
   "metadata": {},
   "outputs": [
    {
     "data": {
      "text/plain": [
       "Autor\n",
       "J. K. Rowling       7\n",
       "Dan Brown           3\n",
       "Suzanne Collins     3\n",
       "Roald Dahl          3\n",
       "George Orwell       2\n",
       "Ken Follett         2\n",
       "E. L. James         2\n",
       "Albert Camus        2\n",
       "Erskine Caldwell    2\n",
       "Cao Xueqin          1\n",
       "Name: count, dtype: int64"
      ]
     },
     "execution_count": 9,
     "metadata": {},
     "output_type": "execute_result"
    }
   ],
   "source": [
    "df['Autor'].value_counts().head(10) #conta e printa os 10 maiores valores"
   ]
  },
  {
   "cell_type": "code",
   "execution_count": 10,
   "id": "38ca8388",
   "metadata": {},
   "outputs": [
    {
     "data": {
      "text/html": [
       "<div>\n",
       "<style scoped>\n",
       "    .dataframe tbody tr th:only-of-type {\n",
       "        vertical-align: middle;\n",
       "    }\n",
       "\n",
       "    .dataframe tbody tr th {\n",
       "        vertical-align: top;\n",
       "    }\n",
       "\n",
       "    .dataframe thead th {\n",
       "        text-align: right;\n",
       "    }\n",
       "</style>\n",
       "<table border=\"1\" class=\"dataframe\">\n",
       "  <thead>\n",
       "    <tr style=\"text-align: right;\">\n",
       "      <th></th>\n",
       "      <th>Autor</th>\n",
       "    </tr>\n",
       "  </thead>\n",
       "  <tbody>\n",
       "    <tr>\n",
       "      <th>0</th>\n",
       "      <td>Charles Dickens</td>\n",
       "    </tr>\n",
       "    <tr>\n",
       "      <th>1</th>\n",
       "      <td>Antoine de Saint-Exupéry</td>\n",
       "    </tr>\n",
       "    <tr>\n",
       "      <th>2</th>\n",
       "      <td>J. K. Rowling</td>\n",
       "    </tr>\n",
       "    <tr>\n",
       "      <th>3</th>\n",
       "      <td>Agatha Christie</td>\n",
       "    </tr>\n",
       "    <tr>\n",
       "      <th>4</th>\n",
       "      <td>Cao Xueqin</td>\n",
       "    </tr>\n",
       "  </tbody>\n",
       "</table>\n",
       "</div>"
      ],
      "text/plain": [
       "                      Autor\n",
       "0           Charles Dickens\n",
       "1  Antoine de Saint-Exupéry\n",
       "2             J. K. Rowling\n",
       "3           Agatha Christie\n",
       "4                Cao Xueqin"
      ]
     },
     "execution_count": 10,
     "metadata": {},
     "output_type": "execute_result"
    }
   ],
   "source": [
    "autores_unicos = pd.DataFrame(df['Autor'].unique(), columns=['Autor'])\n",
    "autores_unicos.head()"
   ]
  },
  {
   "cell_type": "code",
   "execution_count": 11,
   "id": "baf890fa",
   "metadata": {},
   "outputs": [
    {
     "data": {
      "text/html": [
       "<div>\n",
       "<style scoped>\n",
       "    .dataframe tbody tr th:only-of-type {\n",
       "        vertical-align: middle;\n",
       "    }\n",
       "\n",
       "    .dataframe tbody tr th {\n",
       "        vertical-align: top;\n",
       "    }\n",
       "\n",
       "    .dataframe thead th {\n",
       "        text-align: right;\n",
       "    }\n",
       "</style>\n",
       "<table border=\"1\" class=\"dataframe\">\n",
       "  <thead>\n",
       "    <tr style=\"text-align: right;\">\n",
       "      <th></th>\n",
       "      <th>Autor</th>\n",
       "      <th>Autor_id</th>\n",
       "    </tr>\n",
       "  </thead>\n",
       "  <tbody>\n",
       "    <tr>\n",
       "      <th>0</th>\n",
       "      <td>Charles Dickens</td>\n",
       "      <td>1</td>\n",
       "    </tr>\n",
       "    <tr>\n",
       "      <th>1</th>\n",
       "      <td>Antoine de Saint-Exupéry</td>\n",
       "      <td>2</td>\n",
       "    </tr>\n",
       "    <tr>\n",
       "      <th>2</th>\n",
       "      <td>J. K. Rowling</td>\n",
       "      <td>3</td>\n",
       "    </tr>\n",
       "    <tr>\n",
       "      <th>3</th>\n",
       "      <td>Agatha Christie</td>\n",
       "      <td>4</td>\n",
       "    </tr>\n",
       "    <tr>\n",
       "      <th>4</th>\n",
       "      <td>Cao Xueqin</td>\n",
       "      <td>5</td>\n",
       "    </tr>\n",
       "  </tbody>\n",
       "</table>\n",
       "</div>"
      ],
      "text/plain": [
       "                      Autor  Autor_id\n",
       "0           Charles Dickens         1\n",
       "1  Antoine de Saint-Exupéry         2\n",
       "2             J. K. Rowling         3\n",
       "3           Agatha Christie         4\n",
       "4                Cao Xueqin         5"
      ]
     },
     "execution_count": 11,
     "metadata": {},
     "output_type": "execute_result"
    }
   ],
   "source": [
    "autores_unicos['Autor_id'] = autores_unicos.index + 1\n",
    "autores_unicos.head()"
   ]
  },
  {
   "cell_type": "code",
   "execution_count": 12,
   "id": "fbc5fb3b",
   "metadata": {},
   "outputs": [],
   "source": [
    "df = df.merge(autores_unicos, on='Autor', how='left')"
   ]
  },
  {
   "cell_type": "code",
   "execution_count": 13,
   "id": "4de4ae71",
   "metadata": {},
   "outputs": [
    {
     "data": {
      "text/html": [
       "<div>\n",
       "<style scoped>\n",
       "    .dataframe tbody tr th:only-of-type {\n",
       "        vertical-align: middle;\n",
       "    }\n",
       "\n",
       "    .dataframe tbody tr th {\n",
       "        vertical-align: top;\n",
       "    }\n",
       "\n",
       "    .dataframe thead th {\n",
       "        text-align: right;\n",
       "    }\n",
       "</style>\n",
       "<table border=\"1\" class=\"dataframe\">\n",
       "  <thead>\n",
       "    <tr style=\"text-align: right;\">\n",
       "      <th></th>\n",
       "      <th>nome</th>\n",
       "    </tr>\n",
       "  </thead>\n",
       "  <tbody>\n",
       "    <tr>\n",
       "      <th>0</th>\n",
       "      <td>Charles Dickens</td>\n",
       "    </tr>\n",
       "    <tr>\n",
       "      <th>1</th>\n",
       "      <td>Antoine de Saint-Exupéry</td>\n",
       "    </tr>\n",
       "    <tr>\n",
       "      <th>2</th>\n",
       "      <td>J. K. Rowling</td>\n",
       "    </tr>\n",
       "    <tr>\n",
       "      <th>3</th>\n",
       "      <td>Agatha Christie</td>\n",
       "    </tr>\n",
       "    <tr>\n",
       "      <th>4</th>\n",
       "      <td>Cao Xueqin</td>\n",
       "    </tr>\n",
       "  </tbody>\n",
       "</table>\n",
       "</div>"
      ],
      "text/plain": [
       "                       nome\n",
       "0           Charles Dickens\n",
       "1  Antoine de Saint-Exupéry\n",
       "2             J. K. Rowling\n",
       "3           Agatha Christie\n",
       "4                Cao Xueqin"
      ]
     },
     "execution_count": 13,
     "metadata": {},
     "output_type": "execute_result"
    }
   ],
   "source": [
    "autores = pd.DataFrame(df['Autor'].unique(), columns=['nome'])\n",
    "autores.head()"
   ]
  },
  {
   "cell_type": "code",
   "execution_count": 14,
   "id": "a66eceba",
   "metadata": {},
   "outputs": [],
   "source": [
    "with open('autores.sql', 'w', encoding='utf-8') as arquivo:\n",
    "    for _, row in autores.iterrows():\n",
    "        nome = row['nome'].replace(\"'\", \"''\")\n",
    "        arquivo.write(f\"INSERT INTO autores (nome) VALUES ('{nome}');\\n\")"
   ]
  },
  {
   "cell_type": "code",
   "execution_count": 15,
   "id": "246ee967",
   "metadata": {},
   "outputs": [
    {
     "data": {
      "text/plain": [
       "np.int64(56)"
      ]
     },
     "execution_count": 15,
     "metadata": {},
     "output_type": "execute_result"
    }
   ],
   "source": [
    "df['Gênero'].isnull().sum()"
   ]
  },
  {
   "cell_type": "code",
   "execution_count": 16,
   "id": "48c81f0d",
   "metadata": {},
   "outputs": [
    {
     "data": {
      "text/html": [
       "<div>\n",
       "<style scoped>\n",
       "    .dataframe tbody tr th:only-of-type {\n",
       "        vertical-align: middle;\n",
       "    }\n",
       "\n",
       "    .dataframe tbody tr th {\n",
       "        vertical-align: top;\n",
       "    }\n",
       "\n",
       "    .dataframe thead th {\n",
       "        text-align: right;\n",
       "    }\n",
       "</style>\n",
       "<table border=\"1\" class=\"dataframe\">\n",
       "  <thead>\n",
       "    <tr style=\"text-align: right;\">\n",
       "      <th></th>\n",
       "      <th>livro</th>\n",
       "      <th>Autor</th>\n",
       "      <th>Idioma</th>\n",
       "      <th>Ano</th>\n",
       "      <th>Vendas</th>\n",
       "      <th>Gênero</th>\n",
       "      <th>Autor_id</th>\n",
       "    </tr>\n",
       "  </thead>\n",
       "  <tbody>\n",
       "    <tr>\n",
       "      <th>164</th>\n",
       "      <td>The Joy of Sex</td>\n",
       "      <td>Alex Comfort</td>\n",
       "      <td>English</td>\n",
       "      <td>1972</td>\n",
       "      <td>10.0</td>\n",
       "      <td>Unknown</td>\n",
       "      <td>148</td>\n",
       "    </tr>\n",
       "    <tr>\n",
       "      <th>165</th>\n",
       "      <td>The Gospel According to Peanuts</td>\n",
       "      <td>Robert L. Short</td>\n",
       "      <td>English</td>\n",
       "      <td>1965</td>\n",
       "      <td>10.0</td>\n",
       "      <td>Unknown</td>\n",
       "      <td>149</td>\n",
       "    </tr>\n",
       "    <tr>\n",
       "      <th>166</th>\n",
       "      <td>The Subtle Art of Not Giving a Fuck</td>\n",
       "      <td>Mark Manson</td>\n",
       "      <td>English</td>\n",
       "      <td>2016</td>\n",
       "      <td>10.0</td>\n",
       "      <td>Unknown</td>\n",
       "      <td>150</td>\n",
       "    </tr>\n",
       "    <tr>\n",
       "      <th>167</th>\n",
       "      <td>Life of Pi</td>\n",
       "      <td>Yann Martel</td>\n",
       "      <td>English</td>\n",
       "      <td>2001</td>\n",
       "      <td>10.0</td>\n",
       "      <td>Unknown</td>\n",
       "      <td>151</td>\n",
       "    </tr>\n",
       "    <tr>\n",
       "      <th>168</th>\n",
       "      <td>The Front Runner</td>\n",
       "      <td>Patricia Nell Warren</td>\n",
       "      <td>English</td>\n",
       "      <td>1974</td>\n",
       "      <td>10.0</td>\n",
       "      <td>Unknown</td>\n",
       "      <td>152</td>\n",
       "    </tr>\n",
       "    <tr>\n",
       "      <th>169</th>\n",
       "      <td>The Goal</td>\n",
       "      <td>Eliyahu M. Goldratt</td>\n",
       "      <td>English</td>\n",
       "      <td>1984</td>\n",
       "      <td>10.0</td>\n",
       "      <td>Unknown</td>\n",
       "      <td>153</td>\n",
       "    </tr>\n",
       "    <tr>\n",
       "      <th>170</th>\n",
       "      <td>Fahrenheit 451</td>\n",
       "      <td>Ray Bradbury</td>\n",
       "      <td>English</td>\n",
       "      <td>1953</td>\n",
       "      <td>10.0</td>\n",
       "      <td>Unknown</td>\n",
       "      <td>154</td>\n",
       "    </tr>\n",
       "    <tr>\n",
       "      <th>171</th>\n",
       "      <td>Angela's Ashes</td>\n",
       "      <td>Frank McCourt</td>\n",
       "      <td>English</td>\n",
       "      <td>1996</td>\n",
       "      <td>10.0</td>\n",
       "      <td>Unknown</td>\n",
       "      <td>155</td>\n",
       "    </tr>\n",
       "    <tr>\n",
       "      <th>172</th>\n",
       "      <td>The Story of My Experiments with Truth (સત્યના...</td>\n",
       "      <td>Mohandas Karamchand Gandhi</td>\n",
       "      <td>Gujarati</td>\n",
       "      <td>1929</td>\n",
       "      <td>10.0</td>\n",
       "      <td>Unknown</td>\n",
       "      <td>156</td>\n",
       "    </tr>\n",
       "    <tr>\n",
       "      <th>173</th>\n",
       "      <td>Bridget Jones's Diary</td>\n",
       "      <td>Helen Fielding</td>\n",
       "      <td>English</td>\n",
       "      <td>1996</td>\n",
       "      <td>10.0</td>\n",
       "      <td>Unknown</td>\n",
       "      <td>157</td>\n",
       "    </tr>\n",
       "  </tbody>\n",
       "</table>\n",
       "</div>"
      ],
      "text/plain": [
       "                                                 livro  \\\n",
       "164                                     The Joy of Sex   \n",
       "165                    The Gospel According to Peanuts   \n",
       "166                The Subtle Art of Not Giving a Fuck   \n",
       "167                                         Life of Pi   \n",
       "168                                   The Front Runner   \n",
       "169                                           The Goal   \n",
       "170                                     Fahrenheit 451   \n",
       "171                                     Angela's Ashes   \n",
       "172  The Story of My Experiments with Truth (સત્યના...   \n",
       "173                              Bridget Jones's Diary   \n",
       "\n",
       "                          Autor    Idioma   Ano  Vendas   Gênero  Autor_id  \n",
       "164                Alex Comfort   English  1972    10.0  Unknown       148  \n",
       "165             Robert L. Short   English  1965    10.0  Unknown       149  \n",
       "166                 Mark Manson   English  2016    10.0  Unknown       150  \n",
       "167                 Yann Martel   English  2001    10.0  Unknown       151  \n",
       "168        Patricia Nell Warren   English  1974    10.0  Unknown       152  \n",
       "169         Eliyahu M. Goldratt   English  1984    10.0  Unknown       153  \n",
       "170                Ray Bradbury   English  1953    10.0  Unknown       154  \n",
       "171               Frank McCourt   English  1996    10.0  Unknown       155  \n",
       "172  Mohandas Karamchand Gandhi  Gujarati  1929    10.0  Unknown       156  \n",
       "173              Helen Fielding   English  1996    10.0  Unknown       157  "
      ]
     },
     "execution_count": 16,
     "metadata": {},
     "output_type": "execute_result"
    }
   ],
   "source": [
    "df['Gênero'] = df['Gênero'].fillna('Unknown')\n",
    "df.tail(10)"
   ]
  },
  {
   "cell_type": "code",
   "execution_count": 17,
   "id": "7ebb57d4",
   "metadata": {},
   "outputs": [
    {
     "data": {
      "text/html": [
       "<div>\n",
       "<style scoped>\n",
       "    .dataframe tbody tr th:only-of-type {\n",
       "        vertical-align: middle;\n",
       "    }\n",
       "\n",
       "    .dataframe tbody tr th {\n",
       "        vertical-align: top;\n",
       "    }\n",
       "\n",
       "    .dataframe thead th {\n",
       "        text-align: right;\n",
       "    }\n",
       "</style>\n",
       "<table border=\"1\" class=\"dataframe\">\n",
       "  <thead>\n",
       "    <tr style=\"text-align: right;\">\n",
       "      <th></th>\n",
       "      <th>genero</th>\n",
       "    </tr>\n",
       "  </thead>\n",
       "  <tbody>\n",
       "    <tr>\n",
       "      <th>0</th>\n",
       "      <td>Historical fiction</td>\n",
       "    </tr>\n",
       "    <tr>\n",
       "      <th>1</th>\n",
       "      <td>Novella</td>\n",
       "    </tr>\n",
       "    <tr>\n",
       "      <th>2</th>\n",
       "      <td>Fantasy</td>\n",
       "    </tr>\n",
       "    <tr>\n",
       "      <th>3</th>\n",
       "      <td>Mystery</td>\n",
       "    </tr>\n",
       "    <tr>\n",
       "      <th>4</th>\n",
       "      <td>Family saga</td>\n",
       "    </tr>\n",
       "    <tr>\n",
       "      <th>...</th>\n",
       "      <td>...</td>\n",
       "    </tr>\n",
       "    <tr>\n",
       "      <th>76</th>\n",
       "      <td>Historical fiction, war novel</td>\n",
       "    </tr>\n",
       "    <tr>\n",
       "      <th>77</th>\n",
       "      <td>Erotica</td>\n",
       "    </tr>\n",
       "    <tr>\n",
       "      <th>78</th>\n",
       "      <td>Science fiction</td>\n",
       "    </tr>\n",
       "    <tr>\n",
       "      <th>79</th>\n",
       "      <td>Dystopian fiction</td>\n",
       "    </tr>\n",
       "    <tr>\n",
       "      <th>80</th>\n",
       "      <td>Horror</td>\n",
       "    </tr>\n",
       "  </tbody>\n",
       "</table>\n",
       "<p>81 rows × 1 columns</p>\n",
       "</div>"
      ],
      "text/plain": [
       "                           genero\n",
       "0              Historical fiction\n",
       "1                         Novella\n",
       "2                         Fantasy\n",
       "3                         Mystery\n",
       "4                     Family saga\n",
       "..                            ...\n",
       "76  Historical fiction, war novel\n",
       "77                        Erotica\n",
       "78                Science fiction\n",
       "79              Dystopian fiction\n",
       "80                         Horror\n",
       "\n",
       "[81 rows x 1 columns]"
      ]
     },
     "execution_count": 17,
     "metadata": {},
     "output_type": "execute_result"
    }
   ],
   "source": [
    "generos = pd.DataFrame(df['Gênero'].unique(), columns=['genero'])\n",
    "generos.head(100)"
   ]
  },
  {
   "cell_type": "code",
   "execution_count": 18,
   "id": "16eb7496",
   "metadata": {},
   "outputs": [],
   "source": [
    "#traduzindo os dados da coluna gênero do DF\n",
    "generos['Gênero_pt'] = generos['genero'].apply(\n",
    "    lambda x: GoogleTranslator(source='auto', target='pt').translate(x)\n",
    ")"
   ]
  },
  {
   "cell_type": "code",
   "execution_count": 19,
   "id": "86c0238d",
   "metadata": {},
   "outputs": [
    {
     "data": {
      "text/html": [
       "<div>\n",
       "<style scoped>\n",
       "    .dataframe tbody tr th:only-of-type {\n",
       "        vertical-align: middle;\n",
       "    }\n",
       "\n",
       "    .dataframe tbody tr th {\n",
       "        vertical-align: top;\n",
       "    }\n",
       "\n",
       "    .dataframe thead th {\n",
       "        text-align: right;\n",
       "    }\n",
       "</style>\n",
       "<table border=\"1\" class=\"dataframe\">\n",
       "  <thead>\n",
       "    <tr style=\"text-align: right;\">\n",
       "      <th></th>\n",
       "      <th>genero</th>\n",
       "      <th>Gênero_pt</th>\n",
       "    </tr>\n",
       "  </thead>\n",
       "  <tbody>\n",
       "    <tr>\n",
       "      <th>0</th>\n",
       "      <td>Historical fiction</td>\n",
       "      <td>Ficção histórica</td>\n",
       "    </tr>\n",
       "    <tr>\n",
       "      <th>1</th>\n",
       "      <td>Novella</td>\n",
       "      <td>Novella</td>\n",
       "    </tr>\n",
       "    <tr>\n",
       "      <th>2</th>\n",
       "      <td>Fantasy</td>\n",
       "      <td>Fantasia</td>\n",
       "    </tr>\n",
       "    <tr>\n",
       "      <th>3</th>\n",
       "      <td>Mystery</td>\n",
       "      <td>Mistério</td>\n",
       "    </tr>\n",
       "    <tr>\n",
       "      <th>4</th>\n",
       "      <td>Family saga</td>\n",
       "      <td>Saga da família</td>\n",
       "    </tr>\n",
       "    <tr>\n",
       "      <th>...</th>\n",
       "      <td>...</td>\n",
       "      <td>...</td>\n",
       "    </tr>\n",
       "    <tr>\n",
       "      <th>76</th>\n",
       "      <td>Historical fiction, war novel</td>\n",
       "      <td>Ficção histórica, romance de guerra</td>\n",
       "    </tr>\n",
       "    <tr>\n",
       "      <th>77</th>\n",
       "      <td>Erotica</td>\n",
       "      <td>Erótica</td>\n",
       "    </tr>\n",
       "    <tr>\n",
       "      <th>78</th>\n",
       "      <td>Science fiction</td>\n",
       "      <td>ficção científica</td>\n",
       "    </tr>\n",
       "    <tr>\n",
       "      <th>79</th>\n",
       "      <td>Dystopian fiction</td>\n",
       "      <td>Ficção distópica</td>\n",
       "    </tr>\n",
       "    <tr>\n",
       "      <th>80</th>\n",
       "      <td>Horror</td>\n",
       "      <td>Horror</td>\n",
       "    </tr>\n",
       "  </tbody>\n",
       "</table>\n",
       "<p>81 rows × 2 columns</p>\n",
       "</div>"
      ],
      "text/plain": [
       "                           genero                            Gênero_pt\n",
       "0              Historical fiction                     Ficção histórica\n",
       "1                         Novella                              Novella\n",
       "2                         Fantasy                             Fantasia\n",
       "3                         Mystery                             Mistério\n",
       "4                     Family saga                      Saga da família\n",
       "..                            ...                                  ...\n",
       "76  Historical fiction, war novel  Ficção histórica, romance de guerra\n",
       "77                        Erotica                              Erótica\n",
       "78                Science fiction                    ficção científica\n",
       "79              Dystopian fiction                     Ficção distópica\n",
       "80                         Horror                               Horror\n",
       "\n",
       "[81 rows x 2 columns]"
      ]
     },
     "execution_count": 19,
     "metadata": {},
     "output_type": "execute_result"
    }
   ],
   "source": [
    "generos.head(85)"
   ]
  },
  {
   "cell_type": "code",
   "execution_count": 20,
   "id": "914d5953",
   "metadata": {},
   "outputs": [
    {
     "data": {
      "text/html": [
       "<div>\n",
       "<style scoped>\n",
       "    .dataframe tbody tr th:only-of-type {\n",
       "        vertical-align: middle;\n",
       "    }\n",
       "\n",
       "    .dataframe tbody tr th {\n",
       "        vertical-align: top;\n",
       "    }\n",
       "\n",
       "    .dataframe thead th {\n",
       "        text-align: right;\n",
       "    }\n",
       "</style>\n",
       "<table border=\"1\" class=\"dataframe\">\n",
       "  <thead>\n",
       "    <tr style=\"text-align: right;\">\n",
       "      <th></th>\n",
       "      <th>genero</th>\n",
       "      <th>Gênero_pt</th>\n",
       "    </tr>\n",
       "  </thead>\n",
       "  <tbody>\n",
       "    <tr>\n",
       "      <th>0</th>\n",
       "      <td>Historical fiction</td>\n",
       "      <td>Ficção histórica</td>\n",
       "    </tr>\n",
       "    <tr>\n",
       "      <th>1</th>\n",
       "      <td>Novella</td>\n",
       "      <td>Novela</td>\n",
       "    </tr>\n",
       "    <tr>\n",
       "      <th>2</th>\n",
       "      <td>Fantasy</td>\n",
       "      <td>Fantasia</td>\n",
       "    </tr>\n",
       "    <tr>\n",
       "      <th>3</th>\n",
       "      <td>Mystery</td>\n",
       "      <td>Mistério</td>\n",
       "    </tr>\n",
       "    <tr>\n",
       "      <th>4</th>\n",
       "      <td>Family saga</td>\n",
       "      <td>Saga familiar</td>\n",
       "    </tr>\n",
       "  </tbody>\n",
       "</table>\n",
       "</div>"
      ],
      "text/plain": [
       "               genero         Gênero_pt\n",
       "0  Historical fiction  Ficção histórica\n",
       "1             Novella            Novela\n",
       "2             Fantasy          Fantasia\n",
       "3             Mystery          Mistério\n",
       "4         Family saga     Saga familiar"
      ]
     },
     "execution_count": 20,
     "metadata": {},
     "output_type": "execute_result"
    }
   ],
   "source": [
    "generos['Gênero_pt'] = generos['Gênero_pt'].replace('Novella', 'Novela')\n",
    "generos['Gênero_pt'] = generos['Gênero_pt'].replace('Saga da família', 'Saga familiar')\n",
    "generos.head()"
   ]
  },
  {
   "cell_type": "code",
   "execution_count": 21,
   "id": "98289917",
   "metadata": {},
   "outputs": [
    {
     "data": {
      "text/html": [
       "<div>\n",
       "<style scoped>\n",
       "    .dataframe tbody tr th:only-of-type {\n",
       "        vertical-align: middle;\n",
       "    }\n",
       "\n",
       "    .dataframe tbody tr th {\n",
       "        vertical-align: top;\n",
       "    }\n",
       "\n",
       "    .dataframe thead th {\n",
       "        text-align: right;\n",
       "    }\n",
       "</style>\n",
       "<table border=\"1\" class=\"dataframe\">\n",
       "  <thead>\n",
       "    <tr style=\"text-align: right;\">\n",
       "      <th></th>\n",
       "      <th>genero</th>\n",
       "      <th>Gênero_pt</th>\n",
       "    </tr>\n",
       "  </thead>\n",
       "  <tbody>\n",
       "    <tr>\n",
       "      <th>0</th>\n",
       "      <td>Historical fiction</td>\n",
       "      <td>ficção histórica</td>\n",
       "    </tr>\n",
       "    <tr>\n",
       "      <th>1</th>\n",
       "      <td>Novella</td>\n",
       "      <td>novela</td>\n",
       "    </tr>\n",
       "    <tr>\n",
       "      <th>2</th>\n",
       "      <td>Fantasy</td>\n",
       "      <td>fantasia</td>\n",
       "    </tr>\n",
       "    <tr>\n",
       "      <th>3</th>\n",
       "      <td>Mystery</td>\n",
       "      <td>mistério</td>\n",
       "    </tr>\n",
       "    <tr>\n",
       "      <th>4</th>\n",
       "      <td>Family saga</td>\n",
       "      <td>saga familiar</td>\n",
       "    </tr>\n",
       "  </tbody>\n",
       "</table>\n",
       "</div>"
      ],
      "text/plain": [
       "               genero         Gênero_pt\n",
       "0  Historical fiction  ficção histórica\n",
       "1             Novella            novela\n",
       "2             Fantasy          fantasia\n",
       "3             Mystery          mistério\n",
       "4         Family saga     saga familiar"
      ]
     },
     "execution_count": 21,
     "metadata": {},
     "output_type": "execute_result"
    }
   ],
   "source": [
    "generos['Gênero_pt'] = generos['Gênero_pt'].str.lower()\n",
    "generos.head()"
   ]
  },
  {
   "cell_type": "code",
   "execution_count": null,
   "id": "24797084",
   "metadata": {},
   "outputs": [],
   "source": []
  },
  {
   "cell_type": "code",
   "execution_count": 22,
   "id": "63ac3487",
   "metadata": {},
   "outputs": [],
   "source": [
    "#Criando os scripts para inserção de dados no sql\n",
    "\n",
    "with open('generos.sql', 'w', encoding='utf-8') as arquivo:\n",
    "    for nome in generos['Gênero_pt']:\n",
    "        nome_validado = nome.replace(\"'\", \"''\")\n",
    "        arquivo.write(f\"INSERT INTO generos (nome) VALUES ('{nome_validado}');\\n\")\n",
    "\n"
   ]
  },
  {
   "cell_type": "code",
   "execution_count": 28,
   "id": "d46870f8",
   "metadata": {},
   "outputs": [],
   "source": [
    "with open('livros.sql','w', encoding='utf-8') as f:\n",
    "    for _, row in df.iterrows():\n",
    "        nome_livro = row['livro'].replace(\"'\", \"''\")\n",
    "        idioma = row[\"Idioma\"]\n",
    "        ano = int(row['Ano'])\n",
    "        vendas = float(row['Vendas'])\n",
    "        autor_id = int(row['Vendas'])\n",
    "        \n",
    "\n",
    "        sql = (\n",
    "            f\"INSERT INTO livros (nome, idioma, ano_publicacao, vendas, autor_id\"\n",
    "            f\"VALUES ({nome_livro},{idioma},{ano},{vendas:.2f},{autor_id})\"\n",
    "        )\n",
    "        f.write(sql)\n",
    "    "
   ]
  }
 ],
 "metadata": {
  "kernelspec": {
   "display_name": ".venv",
   "language": "python",
   "name": "python3"
  },
  "language_info": {
   "codemirror_mode": {
    "name": "ipython",
    "version": 3
   },
   "file_extension": ".py",
   "mimetype": "text/x-python",
   "name": "python",
   "nbconvert_exporter": "python",
   "pygments_lexer": "ipython3",
   "version": "3.13.5"
  }
 },
 "nbformat": 4,
 "nbformat_minor": 5
}
