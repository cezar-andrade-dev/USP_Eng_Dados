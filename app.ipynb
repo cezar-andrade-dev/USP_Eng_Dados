{
 "cells": [
  {
   "cell_type": "code",
   "execution_count": 1,
   "id": "6bf4f246",
   "metadata": {},
   "outputs": [],
   "source": [
    "import pandas as pd"
   ]
  },
  {
   "cell_type": "code",
   "execution_count": null,
   "id": "225801ef",
   "metadata": {},
   "outputs": [],
   "source": [
    "df = pd.read_csv(\"livros.csv\")\n",
    "df.head"
   ]
  },
  {
   "cell_type": "code",
   "execution_count": null,
   "id": "b5e05fb2",
   "metadata": {},
   "outputs": [],
   "source": [
    "df.shape #linhas e colunas"
   ]
  },
  {
   "cell_type": "code",
   "execution_count": null,
   "id": "c5190b13",
   "metadata": {},
   "outputs": [],
   "source": [
    "df.info() #tipos de cada coluna"
   ]
  },
  {
   "cell_type": "code",
   "execution_count": 27,
   "id": "cfd5e606",
   "metadata": {},
   "outputs": [],
   "source": [
    "traducao_colunas = {\n",
    "    'Book':'livro', \n",
    "    'Author(s)':'Autor', \n",
    "    'Original language':'Idioma', \n",
    "    'First published': 'Ano',\n",
    "    'Approximate sales in millions':'Vendas', \n",
    "    'Genre':'Gênero'\n",
    "}"
   ]
  },
  {
   "cell_type": "code",
   "execution_count": null,
   "id": "f976140c",
   "metadata": {},
   "outputs": [],
   "source": [
    "df.rename(columns=traducao_colunas, inplace=True)\n",
    "df.columns"
   ]
  },
  {
   "cell_type": "code",
   "execution_count": null,
   "id": "0891f148",
   "metadata": {},
   "outputs": [],
   "source": [
    "df.isnull().sum()\n",
    "#problema com a coluna gênero"
   ]
  },
  {
   "cell_type": "code",
   "execution_count": null,
   "id": "f5082a1e",
   "metadata": {},
   "outputs": [],
   "source": [
    "df['Autor'].value_counts().head(10) #conta e printa os 10 maiores valores"
   ]
  },
  {
   "cell_type": "code",
   "execution_count": null,
   "id": "38ca8388",
   "metadata": {},
   "outputs": [],
   "source": [
    "autores_unicos = pd.DataFrame(df['Autor'].unique(), columns=['Autor'])\n",
    "autores_unicos.head()"
   ]
  },
  {
   "cell_type": "code",
   "execution_count": null,
   "id": "baf890fa",
   "metadata": {},
   "outputs": [],
   "source": [
    "autores_unicos['autor_id'] = autores_unicos.index + 1\n",
    "autores_unicos.head()"
   ]
  },
  {
   "cell_type": "code",
   "execution_count": 53,
   "id": "fbc5fb3b",
   "metadata": {},
   "outputs": [],
   "source": [
    "df = df.merge(autores_unicos, on='Autor')"
   ]
  },
  {
   "cell_type": "code",
   "execution_count": null,
   "id": "cbc74b80",
   "metadata": {},
   "outputs": [],
   "source": [
    "df.head"
   ]
  }
 ],
 "metadata": {
  "kernelspec": {
   "display_name": ".venv",
   "language": "python",
   "name": "python3"
  },
  "language_info": {
   "codemirror_mode": {
    "name": "ipython",
    "version": 3
   },
   "file_extension": ".py",
   "mimetype": "text/x-python",
   "name": "python",
   "nbconvert_exporter": "python",
   "pygments_lexer": "ipython3",
   "version": "3.13.5"
  }
 },
 "nbformat": 4,
 "nbformat_minor": 5
}
