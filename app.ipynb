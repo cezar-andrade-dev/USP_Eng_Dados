{
 "cells": [
  {
   "cell_type": "code",
   "execution_count": 1,
   "id": "6bf4f246",
   "metadata": {},
   "outputs": [],
   "source": [
    "import pandas as pd"
   ]
  },
  {
   "cell_type": "code",
   "execution_count": null,
   "id": "225801ef",
   "metadata": {},
   "outputs": [],
   "source": [
    "df = pd.read_csv(\"livros.csv\")\n"
   ]
  },
  {
   "cell_type": "code",
   "execution_count": null,
   "id": "b5e05fb2",
   "metadata": {},
   "outputs": [],
   "source": [
    "df.shape #linhas e colunas"
   ]
  },
  {
   "cell_type": "code",
   "execution_count": null,
   "id": "c5190b13",
   "metadata": {},
   "outputs": [],
   "source": [
    "df.info() #tipos de cada coluna"
   ]
  },
  {
   "cell_type": "code",
   "execution_count": 71,
   "id": "cfd5e606",
   "metadata": {},
   "outputs": [],
   "source": [
    "traducao_colunas = {\n",
    "    'Book':'livro', \n",
    "    'Author(s)':'Autor', \n",
    "    'Original language':'Idioma', \n",
    "    'First published': 'Ano',\n",
    "    'Approximate sales in millions':'Vendas', \n",
    "    'Genre':'Gênero'\n",
    "}"
   ]
  },
  {
   "cell_type": "code",
   "execution_count": 72,
   "id": "f976140c",
   "metadata": {},
   "outputs": [
    {
     "data": {
      "text/plain": [
       "Index(['livro', 'Autor', 'Idioma', 'Ano', 'Vendas', 'Gênero'], dtype='object')"
      ]
     },
     "execution_count": 72,
     "metadata": {},
     "output_type": "execute_result"
    }
   ],
   "source": [
    "df.rename(columns=traducao_colunas, inplace=True)\n",
    "df.columns"
   ]
  },
  {
   "cell_type": "code",
   "execution_count": null,
   "id": "0891f148",
   "metadata": {},
   "outputs": [],
   "source": [
    "df.isnull().sum()\n",
    "#problema com a coluna gênero"
   ]
  },
  {
   "cell_type": "code",
   "execution_count": 73,
   "id": "f5082a1e",
   "metadata": {},
   "outputs": [
    {
     "data": {
      "text/plain": [
       "Autor\n",
       "J. K. Rowling       7\n",
       "Dan Brown           3\n",
       "Suzanne Collins     3\n",
       "Roald Dahl          3\n",
       "George Orwell       2\n",
       "Ken Follett         2\n",
       "E. L. James         2\n",
       "Albert Camus        2\n",
       "Erskine Caldwell    2\n",
       "Cao Xueqin          1\n",
       "Name: count, dtype: int64"
      ]
     },
     "execution_count": 73,
     "metadata": {},
     "output_type": "execute_result"
    }
   ],
   "source": [
    "df['Autor'].value_counts().head(10) #conta e printa os 10 maiores valores"
   ]
  },
  {
   "cell_type": "code",
   "execution_count": 74,
   "id": "38ca8388",
   "metadata": {},
   "outputs": [
    {
     "data": {
      "text/html": [
       "<div>\n",
       "<style scoped>\n",
       "    .dataframe tbody tr th:only-of-type {\n",
       "        vertical-align: middle;\n",
       "    }\n",
       "\n",
       "    .dataframe tbody tr th {\n",
       "        vertical-align: top;\n",
       "    }\n",
       "\n",
       "    .dataframe thead th {\n",
       "        text-align: right;\n",
       "    }\n",
       "</style>\n",
       "<table border=\"1\" class=\"dataframe\">\n",
       "  <thead>\n",
       "    <tr style=\"text-align: right;\">\n",
       "      <th></th>\n",
       "      <th>Autor</th>\n",
       "    </tr>\n",
       "  </thead>\n",
       "  <tbody>\n",
       "    <tr>\n",
       "      <th>0</th>\n",
       "      <td>Charles Dickens</td>\n",
       "    </tr>\n",
       "    <tr>\n",
       "      <th>1</th>\n",
       "      <td>Antoine de Saint-Exupéry</td>\n",
       "    </tr>\n",
       "    <tr>\n",
       "      <th>2</th>\n",
       "      <td>J. K. Rowling</td>\n",
       "    </tr>\n",
       "    <tr>\n",
       "      <th>3</th>\n",
       "      <td>Agatha Christie</td>\n",
       "    </tr>\n",
       "    <tr>\n",
       "      <th>4</th>\n",
       "      <td>Cao Xueqin</td>\n",
       "    </tr>\n",
       "  </tbody>\n",
       "</table>\n",
       "</div>"
      ],
      "text/plain": [
       "                      Autor\n",
       "0           Charles Dickens\n",
       "1  Antoine de Saint-Exupéry\n",
       "2             J. K. Rowling\n",
       "3           Agatha Christie\n",
       "4                Cao Xueqin"
      ]
     },
     "execution_count": 74,
     "metadata": {},
     "output_type": "execute_result"
    }
   ],
   "source": [
    "autores_unicos = pd.DataFrame(df['Autor'].unique(), columns=['Autor'])\n",
    "autores_unicos.head()"
   ]
  },
  {
   "cell_type": "code",
   "execution_count": 75,
   "id": "baf890fa",
   "metadata": {},
   "outputs": [
    {
     "data": {
      "text/html": [
       "<div>\n",
       "<style scoped>\n",
       "    .dataframe tbody tr th:only-of-type {\n",
       "        vertical-align: middle;\n",
       "    }\n",
       "\n",
       "    .dataframe tbody tr th {\n",
       "        vertical-align: top;\n",
       "    }\n",
       "\n",
       "    .dataframe thead th {\n",
       "        text-align: right;\n",
       "    }\n",
       "</style>\n",
       "<table border=\"1\" class=\"dataframe\">\n",
       "  <thead>\n",
       "    <tr style=\"text-align: right;\">\n",
       "      <th></th>\n",
       "      <th>Autor</th>\n",
       "      <th>Autor_id</th>\n",
       "    </tr>\n",
       "  </thead>\n",
       "  <tbody>\n",
       "    <tr>\n",
       "      <th>0</th>\n",
       "      <td>Charles Dickens</td>\n",
       "      <td>1</td>\n",
       "    </tr>\n",
       "    <tr>\n",
       "      <th>1</th>\n",
       "      <td>Antoine de Saint-Exupéry</td>\n",
       "      <td>2</td>\n",
       "    </tr>\n",
       "    <tr>\n",
       "      <th>2</th>\n",
       "      <td>J. K. Rowling</td>\n",
       "      <td>3</td>\n",
       "    </tr>\n",
       "    <tr>\n",
       "      <th>3</th>\n",
       "      <td>Agatha Christie</td>\n",
       "      <td>4</td>\n",
       "    </tr>\n",
       "    <tr>\n",
       "      <th>4</th>\n",
       "      <td>Cao Xueqin</td>\n",
       "      <td>5</td>\n",
       "    </tr>\n",
       "  </tbody>\n",
       "</table>\n",
       "</div>"
      ],
      "text/plain": [
       "                      Autor  Autor_id\n",
       "0           Charles Dickens         1\n",
       "1  Antoine de Saint-Exupéry         2\n",
       "2             J. K. Rowling         3\n",
       "3           Agatha Christie         4\n",
       "4                Cao Xueqin         5"
      ]
     },
     "execution_count": 75,
     "metadata": {},
     "output_type": "execute_result"
    }
   ],
   "source": [
    "autores_unicos['Autor_id'] = autores_unicos.index + 1\n",
    "autores_unicos.head()"
   ]
  },
  {
   "cell_type": "code",
   "execution_count": 76,
   "id": "fbc5fb3b",
   "metadata": {},
   "outputs": [],
   "source": [
    "df = df.merge(autores_unicos, on='Autor', how='left')"
   ]
  },
  {
   "cell_type": "code",
   "execution_count": null,
   "id": "4de4ae71",
   "metadata": {},
   "outputs": [],
   "source": [
    "autores = pd.DataFrame(df['Autor'].unique(), columns=['nome'])\n",
    "autores.head()"
   ]
  },
  {
   "cell_type": "code",
   "execution_count": 82,
   "id": "a66eceba",
   "metadata": {},
   "outputs": [],
   "source": [
    "with open('autores.sql', 'w', encoding='utf-8') as arquivo:\n",
    "    for _, row in autores.iterrows():\n",
    "        nome = row['nome'].replace(\"'\", \"''\")\n",
    "        arquivo.write(f\"INSERT INTO autores (nome) VALUES ('{nome}');\\n\")"
   ]
  }
 ],
 "metadata": {
  "kernelspec": {
   "display_name": ".venv",
   "language": "python",
   "name": "python3"
  },
  "language_info": {
   "codemirror_mode": {
    "name": "ipython",
    "version": 3
   },
   "file_extension": ".py",
   "mimetype": "text/x-python",
   "name": "python",
   "nbconvert_exporter": "python",
   "pygments_lexer": "ipython3",
   "version": "3.13.5"
  }
 },
 "nbformat": 4,
 "nbformat_minor": 5
}
